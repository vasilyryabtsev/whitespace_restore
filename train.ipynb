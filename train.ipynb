{
 "cells": [
  {
   "cell_type": "code",
   "execution_count": null,
   "metadata": {},
   "outputs": [],
   "source": [
    "import torch\n",
    "\n",
    "from torch.utils.data import DataLoader\n",
    "from torch.optim import AdamW\n",
    "from transformers import get_linear_schedule_with_warmup\n",
    "\n",
    "from src.dataset import WhitespaceDataset\n",
    "from src.model import ByT5WhitespaceRestorer\n",
    "from src.trainer import train_and_validate\n",
    "\n",
    "\n",
    "# Поменять на свои пути\n",
    "PATH_TO_TEST = \"/kaggle/input/whitespace-restore/test.txt\"\n",
    "PATH_TO_TRAIN = \"/kaggle/input/whitespace-restore/train.txt\"\n",
    "PATH_TO_SAVE = \"/kaggle/working/\""
   ]
  },
  {
   "cell_type": "code",
   "execution_count": null,
   "metadata": {
    "execution": {
     "iopub.execute_input": "2025-09-22T15:00:08.789433Z",
     "iopub.status.busy": "2025-09-22T15:00:08.788813Z",
     "iopub.status.idle": "2025-09-22T15:00:17.409048Z",
     "shell.execute_reply": "2025-09-22T15:00:17.408469Z",
     "shell.execute_reply.started": "2025-09-22T15:00:08.789405Z"
    },
    "trusted": true
   },
   "outputs": [],
   "source": [
    "test_dataset = WhitespaceDataset(PATH_TO_TEST)\n",
    "train_dataset = WhitespaceDataset(PATH_TO_TRAIN)"
   ]
  },
  {
   "cell_type": "code",
   "execution_count": null,
   "metadata": {
    "execution": {
     "iopub.execute_input": "2025-09-22T15:00:17.410618Z",
     "iopub.status.busy": "2025-09-22T15:00:17.410197Z",
     "iopub.status.idle": "2025-09-22T15:00:17.414871Z",
     "shell.execute_reply": "2025-09-22T15:00:17.414307Z",
     "shell.execute_reply.started": "2025-09-22T15:00:17.410597Z"
    },
    "trusted": true
   },
   "outputs": [],
   "source": [
    "train_loader = DataLoader(\n",
    "    train_dataset,\n",
    "    batch_size=296,\n",
    "    shuffle=True,\n",
    "    num_workers=4,\n",
    "    pin_memory=True\n",
    ")\n",
    "\n",
    "val_loader = DataLoader(\n",
    "    test_dataset,\n",
    "    batch_size=256,\n",
    "    shuffle=False,\n",
    "    num_workers=4,\n",
    "    pin_memory=True\n",
    ")"
   ]
  },
  {
   "cell_type": "code",
   "execution_count": null,
   "metadata": {
    "execution": {
     "iopub.execute_input": "2025-09-22T15:00:17.415849Z",
     "iopub.status.busy": "2025-09-22T15:00:17.415589Z",
     "iopub.status.idle": "2025-09-22T15:00:46.972029Z",
     "shell.execute_reply": "2025-09-22T15:00:46.971401Z",
     "shell.execute_reply.started": "2025-09-22T15:00:17.415826Z"
    },
    "trusted": true
   },
   "outputs": [],
   "source": [
    "device = \"cuda\" if torch.cuda.is_available() else \"cpu\"\n",
    "model = ByT5WhitespaceRestorer()\n",
    "model.to(device)"
   ]
  },
  {
   "cell_type": "code",
   "execution_count": null,
   "metadata": {
    "execution": {
     "iopub.execute_input": "2025-09-22T15:08:48.128700Z",
     "iopub.status.busy": "2025-09-22T15:08:48.128013Z",
     "iopub.status.idle": "2025-09-22T15:09:57.817865Z",
     "shell.execute_reply": "2025-09-22T15:09:57.816823Z",
     "shell.execute_reply.started": "2025-09-22T15:08:48.128664Z"
    },
    "trusted": true
   },
   "outputs": [],
   "source": [
    "epochs = 1\n",
    "\n",
    "optimizer = AdamW(\n",
    "    model.parameters(),\n",
    "    lr=5e-5,\n",
    "    weight_decay=0.01,\n",
    "    eps=1e-8,\n",
    "    fused=True\n",
    ")\n",
    "\n",
    "total_steps = len(train_loader) * epochs\n",
    "\n",
    "scheduler = get_linear_schedule_with_warmup(\n",
    "    optimizer,\n",
    "    num_warmup_steps=int(total_steps * 0.01),\n",
    "    num_training_steps=total_steps\n",
    ")\n",
    "\n",
    "train_and_validate(model, train_loader, val_loader, optimizer, scheduler, device=device, save_dir=PATH_TO_SAVE, epochs=epochs)"
   ]
  }
 ],
 "metadata": {
  "kaggle": {
   "accelerator": "nvidiaTeslaT4",
   "dataSources": [
    {
     "datasetId": 8317454,
     "sourceId": 13137201,
     "sourceType": "datasetVersion"
    },
    {
     "isSourceIdPinned": true,
     "modelId": 455742,
     "modelInstanceId": 439182,
     "sourceId": 587493,
     "sourceType": "modelInstanceVersion"
    }
   ],
   "dockerImageVersionId": 31090,
   "isGpuEnabled": true,
   "isInternetEnabled": true,
   "language": "python",
   "sourceType": "notebook"
  },
  "kernelspec": {
   "display_name": "Python 3",
   "language": "python",
   "name": "python3"
  },
  "language_info": {
   "codemirror_mode": {
    "name": "ipython",
    "version": 3
   },
   "file_extension": ".py",
   "mimetype": "text/x-python",
   "name": "python",
   "nbconvert_exporter": "python",
   "pygments_lexer": "ipython3",
   "version": "3.11.13"
  }
 },
 "nbformat": 4,
 "nbformat_minor": 4
}
